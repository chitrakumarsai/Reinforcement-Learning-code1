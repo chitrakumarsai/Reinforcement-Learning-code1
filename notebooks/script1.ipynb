{
 "cells": [
  {
   "cell_type": "code",
   "execution_count": 1,
   "id": "e1de33a2",
   "metadata": {},
   "outputs": [],
   "source": [
    "import gymnasium as gym"
   ]
  },
  {
   "cell_type": "code",
   "execution_count": 2,
   "id": "05aa3538",
   "metadata": {},
   "outputs": [
    {
     "name": "stdout",
     "output_type": "stream",
     "text": [
      "Sample action: 1\n",
      "Sample observation: 1\n"
     ]
    }
   ],
   "source": [
    "env = gym.make(\"LunarLander-v3\")\n",
    "\n",
    "sample_action = env.action_space.sample()\n",
    "print(\"Sample action:\",sample_action)\n",
    "\n",
    "sample_observation = env.observation_space.sample()\n",
    "print(\"Sample observation:\",sample_action)"
   ]
  },
  {
   "cell_type": "code",
   "execution_count": null,
   "id": "f9ce9601",
   "metadata": {},
   "outputs": [],
   "source": []
  }
 ],
 "metadata": {
  "kernelspec": {
   "display_name": "Reinforcement-Learning-code1",
   "language": "python",
   "name": "python3"
  },
  "language_info": {
   "codemirror_mode": {
    "name": "ipython",
    "version": 3
   },
   "file_extension": ".py",
   "mimetype": "text/x-python",
   "name": "python",
   "nbconvert_exporter": "python",
   "pygments_lexer": "ipython3",
   "version": "3.11.0"
  }
 },
 "nbformat": 4,
 "nbformat_minor": 5
}
